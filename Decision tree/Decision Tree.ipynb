{
 "cells": [
  {
   "cell_type": "markdown",
   "id": "01091afd",
   "metadata": {},
   "source": [
    "# Decision Tree Classification"
   ]
  },
  {
   "cell_type": "markdown",
   "id": "e5ec64bc",
   "metadata": {},
   "source": [
    "## Part 1: Creating a Decision Tree Classifier"
   ]
  },
  {
   "cell_type": "markdown",
   "id": "42e68257",
   "metadata": {},
   "source": [
    "In this part of the lab, you will create a decision tree classifier that will learn from a labelled dataset.\n",
    "\n",
    "The dataset contains the names and demographic details for each passenger. In addition, details of the passengers' trip are included. From this data, we can be build a decision tree that illustrates the factors that contributed to survivability, or lack of it, for the voyage.\n",
    "\n",
    "The datasets contain the following variables:"
   ]
  },
  {
   "cell_type": "markdown",
   "id": "5016e7fe",
   "metadata": {},
   "source": [
    "| Variable       | Description                                                                  |\n",
    "|----------------|------------------------------------------------------------------------------|\n",
    "| 1. PassengerID | Unique identifier for each passenger                                         |\n",
    "| 2. Survival    | Did the passenger survive? (0 = No; 1 = Yes)                                 |\n",
    "| 3. Pclass      | Passenger ticket class. (1 = 1st; 2 = 2nd; 3 = 3rd)                          |\n",
    "| 4. Name        | Name of the passenger. (last name, first name)                               |\n",
    "| 5. Gender      | Male or female                                                               |\n",
    "| 6. Age         | Age in years. Mostly integers with float values for children under one year. |\n",
    "| 7. SibSp       | Number of siblings or spouse onboard.                                        |\n",
    "| 8. Parch       | Number of parents or children onboard.                                       |\n",
    "| 9. Ticket      | Ticket number                                                                |\n",
    "| 10. Fare       | Amount paid for fare in pre-1970 British Pounds                              |\n",
    "| 11. Cabin      | Cabin number                                                                 |\n",
    "| 12. Embarked   | Port of Embarkation (C = Cherbourg; Q = Queenstown; S = Southampton)         |"
   ]
  },
  {
   "cell_type": "markdown",
   "id": "2d10e41f",
   "metadata": {},
   "source": [
    "We can ask about the factors that contributed to passengers surviving or perishing in the Titanic disaster, for example, is there a connection between a gender of the passenger and the chance of surviving, or what is the most common age of the survivors"
   ]
  },
  {
   "cell_type": "markdown",
   "id": "7433b098",
   "metadata": {},
   "source": [
    "### Step 1: Creating the dataframe"
   ]
  },
  {
   "cell_type": "markdown",
   "id": "569a73e4",
   "metadata": {},
   "source": [
    "**Importing pandas and the csv file**"
   ]
  },
  {
   "cell_type": "code",
   "execution_count": 1,
   "id": "4345df0e",
   "metadata": {},
   "outputs": [],
   "source": [
    "import pandas as pd\n",
    "\n",
    "#create a pandas dataframe called \"training\" from the titanic-train.csv file\n",
    "training = pd.read_csv(\"./Data/titanic-train.csv\")"
   ]
  },
  {
   "cell_type": "markdown",
   "id": "6b8ed9c8",
   "metadata": {},
   "source": [
    "Verifing the import and taking a look at the data"
   ]
  },
  {
   "cell_type": "code",
   "execution_count": 2,
   "id": "bbb2488c",
   "metadata": {},
   "outputs": [
    {
     "name": "stdout",
     "output_type": "stream",
     "text": [
      "<class 'pandas.core.frame.DataFrame'>\n",
      "RangeIndex: 915 entries, 0 to 914\n",
      "Data columns (total 12 columns):\n",
      " #   Column       Non-Null Count  Dtype  \n",
      "---  ------       --------------  -----  \n",
      " 0   PassengerId  915 non-null    int64  \n",
      " 1   Survived     915 non-null    int64  \n",
      " 2   Pclass       915 non-null    int64  \n",
      " 3   Name         915 non-null    object \n",
      " 4   Gender       915 non-null    object \n",
      " 5   Age          738 non-null    float64\n",
      " 6   SibSp        915 non-null    int64  \n",
      " 7   Parch        915 non-null    int64  \n",
      " 8   Ticket       915 non-null    object \n",
      " 9   Fare         915 non-null    float64\n",
      " 10  Cabin        202 non-null    object \n",
      " 11  Embarked     914 non-null    object \n",
      "dtypes: float64(2), int64(5), object(5)\n",
      "memory usage: 85.9+ KB\n"
     ]
    }
   ],
   "source": [
    "training.info(verbose=True)"
   ]
  },
  {
   "cell_type": "markdown",
   "id": "20ffcc43",
   "metadata": {},
   "source": [
    "There are some missing age, cabin and embarked values in the data set"
   ]
  },
  {
   "cell_type": "code",
   "execution_count": 3,
   "id": "98c64575",
   "metadata": {},
   "outputs": [
    {
     "data": {
      "text/html": [
       "<div>\n",
       "<style scoped>\n",
       "    .dataframe tbody tr th:only-of-type {\n",
       "        vertical-align: middle;\n",
       "    }\n",
       "\n",
       "    .dataframe tbody tr th {\n",
       "        vertical-align: top;\n",
       "    }\n",
       "\n",
       "    .dataframe thead th {\n",
       "        text-align: right;\n",
       "    }\n",
       "</style>\n",
       "<table border=\"1\" class=\"dataframe\">\n",
       "  <thead>\n",
       "    <tr style=\"text-align: right;\">\n",
       "      <th></th>\n",
       "      <th>PassengerId</th>\n",
       "      <th>Survived</th>\n",
       "      <th>Pclass</th>\n",
       "      <th>Name</th>\n",
       "      <th>Gender</th>\n",
       "      <th>Age</th>\n",
       "      <th>SibSp</th>\n",
       "      <th>Parch</th>\n",
       "      <th>Ticket</th>\n",
       "      <th>Fare</th>\n",
       "      <th>Cabin</th>\n",
       "      <th>Embarked</th>\n",
       "    </tr>\n",
       "  </thead>\n",
       "  <tbody>\n",
       "    <tr>\n",
       "      <th>0</th>\n",
       "      <td>1</td>\n",
       "      <td>0</td>\n",
       "      <td>1</td>\n",
       "      <td>Davidson, Mr. Thornton</td>\n",
       "      <td>male</td>\n",
       "      <td>31.0</td>\n",
       "      <td>1</td>\n",
       "      <td>0</td>\n",
       "      <td>F.C. 12750</td>\n",
       "      <td>52.0000</td>\n",
       "      <td>B71</td>\n",
       "      <td>S</td>\n",
       "    </tr>\n",
       "    <tr>\n",
       "      <th>1</th>\n",
       "      <td>2</td>\n",
       "      <td>0</td>\n",
       "      <td>3</td>\n",
       "      <td>Asim, Mr. Adola</td>\n",
       "      <td>male</td>\n",
       "      <td>35.0</td>\n",
       "      <td>0</td>\n",
       "      <td>0</td>\n",
       "      <td>SOTON/O.Q. 3101310</td>\n",
       "      <td>7.0500</td>\n",
       "      <td>NaN</td>\n",
       "      <td>S</td>\n",
       "    </tr>\n",
       "    <tr>\n",
       "      <th>2</th>\n",
       "      <td>3</td>\n",
       "      <td>0</td>\n",
       "      <td>3</td>\n",
       "      <td>Nankoff, Mr. Minko</td>\n",
       "      <td>male</td>\n",
       "      <td>NaN</td>\n",
       "      <td>0</td>\n",
       "      <td>0</td>\n",
       "      <td>349218</td>\n",
       "      <td>7.8958</td>\n",
       "      <td>NaN</td>\n",
       "      <td>S</td>\n",
       "    </tr>\n",
       "    <tr>\n",
       "      <th>3</th>\n",
       "      <td>4</td>\n",
       "      <td>0</td>\n",
       "      <td>1</td>\n",
       "      <td>Thayer, Mr. John Borland</td>\n",
       "      <td>male</td>\n",
       "      <td>49.0</td>\n",
       "      <td>1</td>\n",
       "      <td>1</td>\n",
       "      <td>17421</td>\n",
       "      <td>110.8833</td>\n",
       "      <td>C68</td>\n",
       "      <td>C</td>\n",
       "    </tr>\n",
       "    <tr>\n",
       "      <th>4</th>\n",
       "      <td>5</td>\n",
       "      <td>0</td>\n",
       "      <td>3</td>\n",
       "      <td>Strandberg, Miss. Ida Sofia</td>\n",
       "      <td>female</td>\n",
       "      <td>22.0</td>\n",
       "      <td>0</td>\n",
       "      <td>0</td>\n",
       "      <td>7553</td>\n",
       "      <td>9.8375</td>\n",
       "      <td>NaN</td>\n",
       "      <td>S</td>\n",
       "    </tr>\n",
       "  </tbody>\n",
       "</table>\n",
       "</div>"
      ],
      "text/plain": [
       "   PassengerId  Survived  Pclass                         Name  Gender   Age  \\\n",
       "0            1         0       1       Davidson, Mr. Thornton    male  31.0   \n",
       "1            2         0       3              Asim, Mr. Adola    male  35.0   \n",
       "2            3         0       3           Nankoff, Mr. Minko    male   NaN   \n",
       "3            4         0       1     Thayer, Mr. John Borland    male  49.0   \n",
       "4            5         0       3  Strandberg, Miss. Ida Sofia  female  22.0   \n",
       "\n",
       "   SibSp  Parch              Ticket      Fare Cabin Embarked  \n",
       "0      1      0          F.C. 12750   52.0000   B71        S  \n",
       "1      0      0  SOTON/O.Q. 3101310    7.0500   NaN        S  \n",
       "2      0      0              349218    7.8958   NaN        S  \n",
       "3      1      1               17421  110.8833   C68        C  \n",
       "4      0      0                7553    9.8375   NaN        S  "
      ]
     },
     "execution_count": 3,
     "metadata": {},
     "output_type": "execute_result"
    }
   ],
   "source": [
    "training.head()"
   ]
  },
  {
   "cell_type": "markdown",
   "id": "318a85a1",
   "metadata": {},
   "source": [
    "### Step 2: Preparing the Data for the Decision Tree Model"
   ]
  },
  {
   "cell_type": "markdown",
   "id": "d11a4307",
   "metadata": {},
   "source": [
    "**Replacing string data with numeric labels**\n",
    "\n",
    "We will use scikit-learn to create the decision trees. The decision tree model we will be using can only handle numeric data. The values for the Gender variable must be transformed into numeric representations. 0 will be used to represent \"male\" and 1 will represent \"female.\""
   ]
  },
  {
   "cell_type": "code",
   "execution_count": 4,
   "id": "b9430ac6",
   "metadata": {},
   "outputs": [],
   "source": [
    "training[\"Gender\"] = training[\"Gender\"].apply(lambda toLabel: 0 if toLabel == 'male' else 1)"
   ]
  },
  {
   "cell_type": "markdown",
   "id": "f07ffcdd",
   "metadata": {},
   "source": [
    "**Verifying that the Gender variable has been changed**"
   ]
  },
  {
   "cell_type": "code",
   "execution_count": 5,
   "id": "31440e2f",
   "metadata": {},
   "outputs": [
    {
     "data": {
      "text/html": [
       "<div>\n",
       "<style scoped>\n",
       "    .dataframe tbody tr th:only-of-type {\n",
       "        vertical-align: middle;\n",
       "    }\n",
       "\n",
       "    .dataframe tbody tr th {\n",
       "        vertical-align: top;\n",
       "    }\n",
       "\n",
       "    .dataframe thead th {\n",
       "        text-align: right;\n",
       "    }\n",
       "</style>\n",
       "<table border=\"1\" class=\"dataframe\">\n",
       "  <thead>\n",
       "    <tr style=\"text-align: right;\">\n",
       "      <th></th>\n",
       "      <th>PassengerId</th>\n",
       "      <th>Survived</th>\n",
       "      <th>Pclass</th>\n",
       "      <th>Name</th>\n",
       "      <th>Gender</th>\n",
       "      <th>Age</th>\n",
       "      <th>SibSp</th>\n",
       "      <th>Parch</th>\n",
       "      <th>Ticket</th>\n",
       "      <th>Fare</th>\n",
       "      <th>Cabin</th>\n",
       "      <th>Embarked</th>\n",
       "    </tr>\n",
       "  </thead>\n",
       "  <tbody>\n",
       "    <tr>\n",
       "      <th>0</th>\n",
       "      <td>1</td>\n",
       "      <td>0</td>\n",
       "      <td>1</td>\n",
       "      <td>Davidson, Mr. Thornton</td>\n",
       "      <td>0</td>\n",
       "      <td>31.0</td>\n",
       "      <td>1</td>\n",
       "      <td>0</td>\n",
       "      <td>F.C. 12750</td>\n",
       "      <td>52.0000</td>\n",
       "      <td>B71</td>\n",
       "      <td>S</td>\n",
       "    </tr>\n",
       "    <tr>\n",
       "      <th>1</th>\n",
       "      <td>2</td>\n",
       "      <td>0</td>\n",
       "      <td>3</td>\n",
       "      <td>Asim, Mr. Adola</td>\n",
       "      <td>0</td>\n",
       "      <td>35.0</td>\n",
       "      <td>0</td>\n",
       "      <td>0</td>\n",
       "      <td>SOTON/O.Q. 3101310</td>\n",
       "      <td>7.0500</td>\n",
       "      <td>NaN</td>\n",
       "      <td>S</td>\n",
       "    </tr>\n",
       "    <tr>\n",
       "      <th>2</th>\n",
       "      <td>3</td>\n",
       "      <td>0</td>\n",
       "      <td>3</td>\n",
       "      <td>Nankoff, Mr. Minko</td>\n",
       "      <td>0</td>\n",
       "      <td>NaN</td>\n",
       "      <td>0</td>\n",
       "      <td>0</td>\n",
       "      <td>349218</td>\n",
       "      <td>7.8958</td>\n",
       "      <td>NaN</td>\n",
       "      <td>S</td>\n",
       "    </tr>\n",
       "    <tr>\n",
       "      <th>3</th>\n",
       "      <td>4</td>\n",
       "      <td>0</td>\n",
       "      <td>1</td>\n",
       "      <td>Thayer, Mr. John Borland</td>\n",
       "      <td>0</td>\n",
       "      <td>49.0</td>\n",
       "      <td>1</td>\n",
       "      <td>1</td>\n",
       "      <td>17421</td>\n",
       "      <td>110.8833</td>\n",
       "      <td>C68</td>\n",
       "      <td>C</td>\n",
       "    </tr>\n",
       "    <tr>\n",
       "      <th>4</th>\n",
       "      <td>5</td>\n",
       "      <td>0</td>\n",
       "      <td>3</td>\n",
       "      <td>Strandberg, Miss. Ida Sofia</td>\n",
       "      <td>1</td>\n",
       "      <td>22.0</td>\n",
       "      <td>0</td>\n",
       "      <td>0</td>\n",
       "      <td>7553</td>\n",
       "      <td>9.8375</td>\n",
       "      <td>NaN</td>\n",
       "      <td>S</td>\n",
       "    </tr>\n",
       "  </tbody>\n",
       "</table>\n",
       "</div>"
      ],
      "text/plain": [
       "   PassengerId  Survived  Pclass                         Name  Gender   Age  \\\n",
       "0            1         0       1       Davidson, Mr. Thornton       0  31.0   \n",
       "1            2         0       3              Asim, Mr. Adola       0  35.0   \n",
       "2            3         0       3           Nankoff, Mr. Minko       0   NaN   \n",
       "3            4         0       1     Thayer, Mr. John Borland       0  49.0   \n",
       "4            5         0       3  Strandberg, Miss. Ida Sofia       1  22.0   \n",
       "\n",
       "   SibSp  Parch              Ticket      Fare Cabin Embarked  \n",
       "0      1      0          F.C. 12750   52.0000   B71        S  \n",
       "1      0      0  SOTON/O.Q. 3101310    7.0500   NaN        S  \n",
       "2      0      0              349218    7.8958   NaN        S  \n",
       "3      1      1               17421  110.8833   C68        C  \n",
       "4      0      0                7553    9.8375   NaN        S  "
      ]
     },
     "execution_count": 5,
     "metadata": {},
     "output_type": "execute_result"
    }
   ],
   "source": [
    "training.head()"
   ]
  },
  {
   "cell_type": "markdown",
   "id": "b49270a2",
   "metadata": {},
   "source": [
    "**Addressing Missing Values in the Dataset**\n",
    "\n",
    "The output of the info() method above indicated that about 180 observations are missing the age value. The age value is important to our analysis. We must address these missing values in some way. While not ideal, we can replace these missing age values with the mean of the ages for the entire dataset."
   ]
  },
  {
   "cell_type": "code",
   "execution_count": 6,
   "id": "4df8a59d",
   "metadata": {},
   "outputs": [],
   "source": [
    "training[\"Age\"].fillna(training[\"Age\"].mean(), inplace=True)"
   ]
  },
  {
   "cell_type": "markdown",
   "id": "1171ee11",
   "metadata": {},
   "source": [
    "**Verifing that the values have been replaced**"
   ]
  },
  {
   "cell_type": "code",
   "execution_count": 7,
   "id": "5f5d73b1",
   "metadata": {},
   "outputs": [
    {
     "data": {
      "text/plain": [
       "False"
      ]
     },
     "execution_count": 7,
     "metadata": {},
     "output_type": "execute_result"
    }
   ],
   "source": [
    "training[\"Age\"].isnull().any()"
   ]
  },
  {
   "cell_type": "code",
   "execution_count": 8,
   "id": "895f1244",
   "metadata": {},
   "outputs": [
    {
     "data": {
      "text/html": [
       "<div>\n",
       "<style scoped>\n",
       "    .dataframe tbody tr th:only-of-type {\n",
       "        vertical-align: middle;\n",
       "    }\n",
       "\n",
       "    .dataframe tbody tr th {\n",
       "        vertical-align: top;\n",
       "    }\n",
       "\n",
       "    .dataframe thead th {\n",
       "        text-align: right;\n",
       "    }\n",
       "</style>\n",
       "<table border=\"1\" class=\"dataframe\">\n",
       "  <thead>\n",
       "    <tr style=\"text-align: right;\">\n",
       "      <th></th>\n",
       "      <th>PassengerId</th>\n",
       "      <th>Survived</th>\n",
       "      <th>Pclass</th>\n",
       "      <th>Name</th>\n",
       "      <th>Gender</th>\n",
       "      <th>Age</th>\n",
       "      <th>SibSp</th>\n",
       "      <th>Parch</th>\n",
       "      <th>Ticket</th>\n",
       "      <th>Fare</th>\n",
       "      <th>Cabin</th>\n",
       "      <th>Embarked</th>\n",
       "    </tr>\n",
       "  </thead>\n",
       "  <tbody>\n",
       "    <tr>\n",
       "      <th>0</th>\n",
       "      <td>1</td>\n",
       "      <td>0</td>\n",
       "      <td>1</td>\n",
       "      <td>Davidson, Mr. Thornton</td>\n",
       "      <td>0</td>\n",
       "      <td>31.000000</td>\n",
       "      <td>1</td>\n",
       "      <td>0</td>\n",
       "      <td>F.C. 12750</td>\n",
       "      <td>52.0000</td>\n",
       "      <td>B71</td>\n",
       "      <td>S</td>\n",
       "    </tr>\n",
       "    <tr>\n",
       "      <th>1</th>\n",
       "      <td>2</td>\n",
       "      <td>0</td>\n",
       "      <td>3</td>\n",
       "      <td>Asim, Mr. Adola</td>\n",
       "      <td>0</td>\n",
       "      <td>35.000000</td>\n",
       "      <td>0</td>\n",
       "      <td>0</td>\n",
       "      <td>SOTON/O.Q. 3101310</td>\n",
       "      <td>7.0500</td>\n",
       "      <td>NaN</td>\n",
       "      <td>S</td>\n",
       "    </tr>\n",
       "    <tr>\n",
       "      <th>2</th>\n",
       "      <td>3</td>\n",
       "      <td>0</td>\n",
       "      <td>3</td>\n",
       "      <td>Nankoff, Mr. Minko</td>\n",
       "      <td>0</td>\n",
       "      <td>29.970867</td>\n",
       "      <td>0</td>\n",
       "      <td>0</td>\n",
       "      <td>349218</td>\n",
       "      <td>7.8958</td>\n",
       "      <td>NaN</td>\n",
       "      <td>S</td>\n",
       "    </tr>\n",
       "    <tr>\n",
       "      <th>3</th>\n",
       "      <td>4</td>\n",
       "      <td>0</td>\n",
       "      <td>1</td>\n",
       "      <td>Thayer, Mr. John Borland</td>\n",
       "      <td>0</td>\n",
       "      <td>49.000000</td>\n",
       "      <td>1</td>\n",
       "      <td>1</td>\n",
       "      <td>17421</td>\n",
       "      <td>110.8833</td>\n",
       "      <td>C68</td>\n",
       "      <td>C</td>\n",
       "    </tr>\n",
       "    <tr>\n",
       "      <th>4</th>\n",
       "      <td>5</td>\n",
       "      <td>0</td>\n",
       "      <td>3</td>\n",
       "      <td>Strandberg, Miss. Ida Sofia</td>\n",
       "      <td>1</td>\n",
       "      <td>22.000000</td>\n",
       "      <td>0</td>\n",
       "      <td>0</td>\n",
       "      <td>7553</td>\n",
       "      <td>9.8375</td>\n",
       "      <td>NaN</td>\n",
       "      <td>S</td>\n",
       "    </tr>\n",
       "  </tbody>\n",
       "</table>\n",
       "</div>"
      ],
      "text/plain": [
       "   PassengerId  Survived  Pclass                         Name  Gender  \\\n",
       "0            1         0       1       Davidson, Mr. Thornton       0   \n",
       "1            2         0       3              Asim, Mr. Adola       0   \n",
       "2            3         0       3           Nankoff, Mr. Minko       0   \n",
       "3            4         0       1     Thayer, Mr. John Borland       0   \n",
       "4            5         0       3  Strandberg, Miss. Ida Sofia       1   \n",
       "\n",
       "         Age  SibSp  Parch              Ticket      Fare Cabin Embarked  \n",
       "0  31.000000      1      0          F.C. 12750   52.0000   B71        S  \n",
       "1  35.000000      0      0  SOTON/O.Q. 3101310    7.0500   NaN        S  \n",
       "2  29.970867      0      0              349218    7.8958   NaN        S  \n",
       "3  49.000000      1      1               17421  110.8833   C68        C  \n",
       "4  22.000000      0      0                7553    9.8375   NaN        S  "
      ]
     },
     "execution_count": 8,
     "metadata": {},
     "output_type": "execute_result"
    }
   ],
   "source": [
    "training.head()"
   ]
  },
  {
   "cell_type": "markdown",
   "id": "91090343",
   "metadata": {},
   "source": [
    "The value that was used to replace the missing ages is 29.970867"
   ]
  },
  {
   "cell_type": "markdown",
   "id": "ed038545",
   "metadata": {},
   "source": [
    "### Step 3: Training and Scoring the Decision Tree Model"
   ]
  },
  {
   "cell_type": "markdown",
   "id": "9b51f397",
   "metadata": {},
   "source": [
    "**Creating an array object with the variable that will be the target for the model**"
   ]
  },
  {
   "cell_type": "code",
   "execution_count": 9,
   "id": "e774aeae",
   "metadata": {},
   "outputs": [],
   "source": [
    "#create the array for the target values\n",
    "y_target = training[\"Survived\"].values"
   ]
  },
  {
   "cell_type": "markdown",
   "id": "239a6340",
   "metadata": {},
   "source": [
    "**Creating an array of the values that will be the input for the model**"
   ]
  },
  {
   "cell_type": "code",
   "execution_count": 10,
   "id": "32684e20",
   "metadata": {},
   "outputs": [],
   "source": [
    "columns = [\"Fare\", \"Pclass\", \"Gender\", \"Age\", \"SibSp\"]\n",
    "#create the variable to hold the features that the classifier will use\n",
    "X_input = training[list(columns)].values"
   ]
  },
  {
   "cell_type": "markdown",
   "id": "005a3ee5",
   "metadata": {},
   "source": [
    "**Creating the learned model**"
   ]
  },
  {
   "cell_type": "code",
   "execution_count": 11,
   "id": "aa2be9a5",
   "metadata": {},
   "outputs": [],
   "source": [
    "#import the tree module from the sklearn library\n",
    "from sklearn import tree\n",
    "\n",
    "#create clf_train as a decision tree classifier object\n",
    "clf_train = tree.DecisionTreeClassifier(criterion=\"entropy\", max_depth=3)\n",
    "\n",
    "#train the model using the fit() method of the decision tree object. \n",
    "#Supply the method with the input variable X_input and the target variable y_target\n",
    "clf_train = clf_train.fit(X_input, y_target)"
   ]
  },
  {
   "cell_type": "markdown",
   "id": "2546d7c4",
   "metadata": {},
   "source": [
    "**Evaluating the model**"
   ]
  },
  {
   "cell_type": "code",
   "execution_count": 12,
   "id": "9d55eeac",
   "metadata": {},
   "outputs": [
    {
     "data": {
      "text/plain": [
       "0.8163934426229508"
      ]
     },
     "execution_count": 12,
     "metadata": {},
     "output_type": "execute_result"
    }
   ],
   "source": [
    "clf_train.score(X_input,y_target)"
   ]
  },
  {
   "cell_type": "markdown",
   "id": "2583d406",
   "metadata": {},
   "source": [
    "This score value indicates that classifications made by the model should be correct approximately 82% of the time"
   ]
  },
  {
   "cell_type": "markdown",
   "id": "acd89607",
   "metadata": {},
   "source": [
    "### Step 6: Visualizing the Tree"
   ]
  },
  {
   "cell_type": "markdown",
   "id": "6dc78749",
   "metadata": {},
   "source": [
    "**Creating the intermediate file output**"
   ]
  },
  {
   "cell_type": "code",
   "execution_count": 13,
   "id": "8ab3cefb",
   "metadata": {},
   "outputs": [],
   "source": [
    "from six import StringIO\n",
    "with open(\"./Data/titanic.dot\", 'w') as f:\n",
    "  f = tree.export_graphviz(clf_train, out_file=f, feature_names=columns)"
   ]
  },
  {
   "cell_type": "markdown",
   "id": "eee7718e",
   "metadata": {},
   "source": [
    "**Installing Graphviz**"
   ]
  },
  {
   "cell_type": "markdown",
   "id": "94e98a51",
   "metadata": {},
   "source": [
    "**Converting the intermediate file to a graphic**"
   ]
  },
  {
   "cell_type": "code",
   "execution_count": 14,
   "id": "e72cbea5",
   "metadata": {},
   "outputs": [],
   "source": [
    "#run the Graphviz dot command to convert the .dot file to .png\n",
    "!dot -Tpng ./Data/titanic.dot -o ./Data/titanic.png"
   ]
  },
  {
   "cell_type": "markdown",
   "id": "5569bb0d",
   "metadata": {},
   "source": [
    "**Displaying the image**"
   ]
  },
  {
   "cell_type": "code",
   "execution_count": 15,
   "id": "fa3dc85d",
   "metadata": {
    "scrolled": false
   },
   "outputs": [
    {
     "data": {
      "image/png": "[encoded data removed]",
      "text/plain": [
       "<IPython.core.display.Image object>"
      ]
     },
     "execution_count": 15,
     "metadata": {},
     "output_type": "execute_result"
    }
   ],
   "source": [
    "#import the Image module from the Ipython.display libary\n",
    "from IPython.display import Image\n",
    "\n",
    "#display the decison tree graphic\n",
    "Image(\"./Data/titanic.png\")"
   ]
  },
  {
   "cell_type": "markdown",
   "id": "0617b0bd",
   "metadata": {},
   "source": [
    "**Interpreting the tree**"
   ]
  },
  {
   "cell_type": "markdown",
   "id": "20f06f4c",
   "metadata": {},
   "source": [
    "From the tree, we can see several things. First, at the root of the tree is the Gender variable, indicating that it is the single most important factor in making the classification. The branches to the left are for Gender = 0 or male. Each root and intermediate node contains the decision factor, the entropy, and the number of passengers who fit the critierion at that point in the tree. For example, the root node indicates that there are 915 observations that make up the learning data set. At the next level, we can see that 597 people were male, and 318 were female. In the third level, at the far right, we can see that 145 people were female and had a ticket of the first or second class. Finally, the leaf nodes for that intermediate node indicate that 19 of these passengers paid a fare of more than 24.808.\n",
    "\n",
    "Finally, the elements in the value array indicate survival. The first value is the number of people who died, and the second is the number of survivors for each criterion. The root node tells us that out of our sample, 585 people died and 330 survived.\n",
    "\n",
    "Entropy is a measure of noise in the decision. Noise can be viewed as uncertainty. For example, in nodes in which the decision results in equal values in the survival value array, the entropy is at its highest possible value, which is 1.0. This means that the model was unable to definitively make the classification decision based on the input variables. For values of very low entropy, the decision was much more clear cut, and the difference in the number of survivors and victims is much higher."
   ]
  },
  {
   "cell_type": "markdown",
   "id": "5a5b7d2d",
   "metadata": {},
   "source": [
    "We can see that the group where the most people died is group of men over 14 years old in the second or third class. The group that had the most survivors is group of women in the first or second class that paid a fare of more than 26.125."
   ]
  },
  {
   "cell_type": "markdown",
   "id": "0511b255",
   "metadata": {},
   "source": [
    "## Part 2: Applying the Decision Tree Model"
   ]
  },
  {
   "cell_type": "markdown",
   "id": "2f98b240",
   "metadata": {},
   "source": [
    "### Step 1: Importing and Preparing the Data"
   ]
  },
  {
   "cell_type": "markdown",
   "id": "74b6120e",
   "metadata": {},
   "source": [
    "**Importing the data**"
   ]
  },
  {
   "cell_type": "code",
   "execution_count": 16,
   "id": "b05eab8f",
   "metadata": {},
   "outputs": [],
   "source": [
    "#import the file into the 'testing' dataframe.\n",
    "testing = pd.read_csv(\"./Data/titanic-test.csv\")"
   ]
  },
  {
   "cell_type": "code",
   "execution_count": 17,
   "id": "9cfb1fc6",
   "metadata": {
    "scrolled": true
   },
   "outputs": [
    {
     "name": "stdout",
     "output_type": "stream",
     "text": [
      "<class 'pandas.core.frame.DataFrame'>\n",
      "RangeIndex: 393 entries, 0 to 392\n",
      "Data columns (total 12 columns):\n",
      " #   Column       Non-Null Count  Dtype  \n",
      "---  ------       --------------  -----  \n",
      " 0   PassengerId  393 non-null    int64  \n",
      " 1   Survived     393 non-null    int64  \n",
      " 2   Pclass       393 non-null    int64  \n",
      " 3   Name         393 non-null    object \n",
      " 4   Gender       393 non-null    object \n",
      " 5   Age          307 non-null    float64\n",
      " 6   SibSp        393 non-null    int64  \n",
      " 7   Parch        393 non-null    int64  \n",
      " 8   Ticket       393 non-null    object \n",
      " 9   Fare         393 non-null    float64\n",
      " 10  Cabin        93 non-null     object \n",
      " 11  Embarked     392 non-null    object \n",
      "dtypes: float64(2), int64(5), object(5)\n",
      "memory usage: 37.0+ KB\n"
     ]
    }
   ],
   "source": [
    "testing.info(verbose=True)"
   ]
  },
  {
   "cell_type": "markdown",
   "id": "d3b05f5c",
   "metadata": {},
   "source": [
    "There are 393 records in the data set. Age variable is missing 86 values"
   ]
  },
  {
   "cell_type": "markdown",
   "id": "f376b96f",
   "metadata": {},
   "source": [
    "**Using a lambda expression to replace the \"male\" and \"female\" values with 0 for male and 1 for female..**"
   ]
  },
  {
   "cell_type": "code",
   "execution_count": 18,
   "id": "3a13fdb4",
   "metadata": {},
   "outputs": [],
   "source": [
    "testing[\"Gender\"] = testing[\"Gender\"].apply(lambda toLabel: 0 if toLabel == 'male' else 1)"
   ]
  },
  {
   "cell_type": "markdown",
   "id": "bdaf8fd3",
   "metadata": {},
   "source": [
    "**Replacing the missing age values with the mean of the ages**"
   ]
  },
  {
   "cell_type": "code",
   "execution_count": 19,
   "id": "27578d66",
   "metadata": {},
   "outputs": [],
   "source": [
    "#Use the fillna method of the testing dataframe column \"Age\" \n",
    "#to replace missing values with the mean of the age values.\n",
    "testing[\"Age\"].fillna(testing[\"Age\"].mean(), inplace=True)"
   ]
  },
  {
   "cell_type": "markdown",
   "id": "b9820450",
   "metadata": {},
   "source": [
    "**Verifying that the values have been replaced**"
   ]
  },
  {
   "cell_type": "code",
   "execution_count": 20,
   "id": "d1725ec4",
   "metadata": {},
   "outputs": [
    {
     "name": "stdout",
     "output_type": "stream",
     "text": [
      "<class 'pandas.core.frame.DataFrame'>\n",
      "RangeIndex: 393 entries, 0 to 392\n",
      "Data columns (total 12 columns):\n",
      " #   Column       Non-Null Count  Dtype  \n",
      "---  ------       --------------  -----  \n",
      " 0   PassengerId  393 non-null    int64  \n",
      " 1   Survived     393 non-null    int64  \n",
      " 2   Pclass       393 non-null    int64  \n",
      " 3   Name         393 non-null    object \n",
      " 4   Gender       393 non-null    int64  \n",
      " 5   Age          393 non-null    float64\n",
      " 6   SibSp        393 non-null    int64  \n",
      " 7   Parch        393 non-null    int64  \n",
      " 8   Ticket       393 non-null    object \n",
      " 9   Fare         393 non-null    float64\n",
      " 10  Cabin        93 non-null     object \n",
      " 11  Embarked     392 non-null    object \n",
      "dtypes: float64(2), int64(6), object(4)\n",
      "memory usage: 37.0+ KB\n"
     ]
    }
   ],
   "source": [
    "testing.info(verbose=True)"
   ]
  },
  {
   "cell_type": "code",
   "execution_count": 21,
   "id": "d8ad0f9f",
   "metadata": {
    "scrolled": true
   },
   "outputs": [
    {
     "data": {
      "text/html": [
       "<div>\n",
       "<style scoped>\n",
       "    .dataframe tbody tr th:only-of-type {\n",
       "        vertical-align: middle;\n",
       "    }\n",
       "\n",
       "    .dataframe tbody tr th {\n",
       "        vertical-align: top;\n",
       "    }\n",
       "\n",
       "    .dataframe thead th {\n",
       "        text-align: right;\n",
       "    }\n",
       "</style>\n",
       "<table border=\"1\" class=\"dataframe\">\n",
       "  <thead>\n",
       "    <tr style=\"text-align: right;\">\n",
       "      <th></th>\n",
       "      <th>PassengerId</th>\n",
       "      <th>Survived</th>\n",
       "      <th>Pclass</th>\n",
       "      <th>Name</th>\n",
       "      <th>Gender</th>\n",
       "      <th>Age</th>\n",
       "      <th>SibSp</th>\n",
       "      <th>Parch</th>\n",
       "      <th>Ticket</th>\n",
       "      <th>Fare</th>\n",
       "      <th>Cabin</th>\n",
       "      <th>Embarked</th>\n",
       "    </tr>\n",
       "  </thead>\n",
       "  <tbody>\n",
       "    <tr>\n",
       "      <th>0</th>\n",
       "      <td>916</td>\n",
       "      <td>0</td>\n",
       "      <td>2</td>\n",
       "      <td>Coleridge, Mr. Reginald Charles</td>\n",
       "      <td>0</td>\n",
       "      <td>29.0</td>\n",
       "      <td>0</td>\n",
       "      <td>0</td>\n",
       "      <td>W./C. 14263</td>\n",
       "      <td>10.50</td>\n",
       "      <td>NaN</td>\n",
       "      <td>S</td>\n",
       "    </tr>\n",
       "    <tr>\n",
       "      <th>1</th>\n",
       "      <td>917</td>\n",
       "      <td>1</td>\n",
       "      <td>1</td>\n",
       "      <td>Spedden, Mrs. Frederic Oakley (Margaretta Corn...</td>\n",
       "      <td>1</td>\n",
       "      <td>40.0</td>\n",
       "      <td>1</td>\n",
       "      <td>1</td>\n",
       "      <td>16966</td>\n",
       "      <td>134.50</td>\n",
       "      <td>E34</td>\n",
       "      <td>C</td>\n",
       "    </tr>\n",
       "    <tr>\n",
       "      <th>2</th>\n",
       "      <td>918</td>\n",
       "      <td>0</td>\n",
       "      <td>3</td>\n",
       "      <td>Windelov, Mr. Einar</td>\n",
       "      <td>0</td>\n",
       "      <td>21.0</td>\n",
       "      <td>0</td>\n",
       "      <td>0</td>\n",
       "      <td>SOTON/OQ 3101317</td>\n",
       "      <td>7.25</td>\n",
       "      <td>NaN</td>\n",
       "      <td>S</td>\n",
       "    </tr>\n",
       "    <tr>\n",
       "      <th>3</th>\n",
       "      <td>919</td>\n",
       "      <td>1</td>\n",
       "      <td>1</td>\n",
       "      <td>Minahan, Miss. Daisy E</td>\n",
       "      <td>1</td>\n",
       "      <td>33.0</td>\n",
       "      <td>1</td>\n",
       "      <td>0</td>\n",
       "      <td>19928</td>\n",
       "      <td>90.00</td>\n",
       "      <td>C78</td>\n",
       "      <td>Q</td>\n",
       "    </tr>\n",
       "    <tr>\n",
       "      <th>4</th>\n",
       "      <td>920</td>\n",
       "      <td>1</td>\n",
       "      <td>3</td>\n",
       "      <td>Wilkes, Mrs. James (Ellen Needs)</td>\n",
       "      <td>1</td>\n",
       "      <td>47.0</td>\n",
       "      <td>1</td>\n",
       "      <td>0</td>\n",
       "      <td>363272</td>\n",
       "      <td>7.00</td>\n",
       "      <td>NaN</td>\n",
       "      <td>S</td>\n",
       "    </tr>\n",
       "  </tbody>\n",
       "</table>\n",
       "</div>"
      ],
      "text/plain": [
       "   PassengerId  Survived  Pclass  \\\n",
       "0          916         0       2   \n",
       "1          917         1       1   \n",
       "2          918         0       3   \n",
       "3          919         1       1   \n",
       "4          920         1       3   \n",
       "\n",
       "                                                Name  Gender   Age  SibSp  \\\n",
       "0                    Coleridge, Mr. Reginald Charles       0  29.0      0   \n",
       "1  Spedden, Mrs. Frederic Oakley (Margaretta Corn...       1  40.0      1   \n",
       "2                                Windelov, Mr. Einar       0  21.0      0   \n",
       "3                             Minahan, Miss. Daisy E       1  33.0      1   \n",
       "4                   Wilkes, Mrs. James (Ellen Needs)       1  47.0      1   \n",
       "\n",
       "   Parch            Ticket    Fare Cabin Embarked  \n",
       "0      0       W./C. 14263   10.50   NaN        S  \n",
       "1      1             16966  134.50   E34        C  \n",
       "2      0  SOTON/OQ 3101317    7.25   NaN        S  \n",
       "3      0             19928   90.00   C78        Q  \n",
       "4      0            363272    7.00   NaN        S  "
      ]
     },
     "execution_count": 21,
     "metadata": {},
     "output_type": "execute_result"
    }
   ],
   "source": [
    "testing.head()"
   ]
  },
  {
   "cell_type": "markdown",
   "id": "5789be7f",
   "metadata": {},
   "source": [
    "### Step 2: Labeling the testing dataset"
   ]
  },
  {
   "cell_type": "markdown",
   "id": "53f2955c",
   "metadata": {},
   "source": [
    "**Creating the array of input variables from the testing data set**"
   ]
  },
  {
   "cell_type": "code",
   "execution_count": 22,
   "id": "9a0601ae",
   "metadata": {},
   "outputs": [],
   "source": [
    "#create the variable X_input to hold the features that the classifier will use\n",
    "X_input = testing[list(columns)].values"
   ]
  },
  {
   "cell_type": "markdown",
   "id": "84949b7f",
   "metadata": {},
   "source": [
    "**Applying the model to the testing data set**"
   ]
  },
  {
   "cell_type": "code",
   "execution_count": 23,
   "id": "0684e210",
   "metadata": {},
   "outputs": [
    {
     "data": {
      "text/html": [
       "<div>\n",
       "<style scoped>\n",
       "    .dataframe tbody tr th:only-of-type {\n",
       "        vertical-align: middle;\n",
       "    }\n",
       "\n",
       "    .dataframe tbody tr th {\n",
       "        vertical-align: top;\n",
       "    }\n",
       "\n",
       "    .dataframe thead th {\n",
       "        text-align: right;\n",
       "    }\n",
       "</style>\n",
       "<table border=\"1\" class=\"dataframe\">\n",
       "  <thead>\n",
       "    <tr style=\"text-align: right;\">\n",
       "      <th></th>\n",
       "      <th>Est_Survival</th>\n",
       "      <th>Name</th>\n",
       "    </tr>\n",
       "  </thead>\n",
       "  <tbody>\n",
       "    <tr>\n",
       "      <th>0</th>\n",
       "      <td>0</td>\n",
       "      <td>Coleridge, Mr. Reginald Charles</td>\n",
       "    </tr>\n",
       "    <tr>\n",
       "      <th>1</th>\n",
       "      <td>1</td>\n",
       "      <td>Spedden, Mrs. Frederic Oakley (Margaretta Corn...</td>\n",
       "    </tr>\n",
       "    <tr>\n",
       "      <th>2</th>\n",
       "      <td>0</td>\n",
       "      <td>Windelov, Mr. Einar</td>\n",
       "    </tr>\n",
       "    <tr>\n",
       "      <th>3</th>\n",
       "      <td>1</td>\n",
       "      <td>Minahan, Miss. Daisy E</td>\n",
       "    </tr>\n",
       "    <tr>\n",
       "      <th>4</th>\n",
       "      <td>0</td>\n",
       "      <td>Wilkes, Mrs. James (Ellen Needs)</td>\n",
       "    </tr>\n",
       "  </tbody>\n",
       "</table>\n",
       "</div>"
      ],
      "text/plain": [
       "   Est_Survival                                               Name\n",
       "0             0                    Coleridge, Mr. Reginald Charles\n",
       "1             1  Spedden, Mrs. Frederic Oakley (Margaretta Corn...\n",
       "2             0                                Windelov, Mr. Einar\n",
       "3             1                             Minahan, Miss. Daisy E\n",
       "4             0                   Wilkes, Mrs. James (Ellen Needs)"
      ]
     },
     "execution_count": 23,
     "metadata": {},
     "output_type": "execute_result"
    }
   ],
   "source": [
    "#apply the model to the testing data and store the result in a pandas dataframe.\n",
    "#Use X_input as the argurment for the predict() method of the clf_train classifier object\n",
    "\n",
    "target_labels = clf_train.predict(X_input)\n",
    "\n",
    "#convert the target array into a pandas dataframe using the pd.DataFrame() method and target as argument\n",
    "target_labels = pd.DataFrame({'Est_Survival':target_labels, 'Name':testing['Name']})\n",
    "\n",
    "#display the first few rows of the data set\n",
    "target_labels.head()"
   ]
  },
  {
   "cell_type": "markdown",
   "id": "69576e42",
   "metadata": {},
   "source": [
    "**Evaluating the accuracy of the estimated labels**"
   ]
  },
  {
   "cell_type": "code",
   "execution_count": 24,
   "id": "d0d89a39",
   "metadata": {},
   "outputs": [
    {
     "name": "stdout",
     "output_type": "stream",
     "text": [
      "0.7588832487309645\n"
     ]
    }
   ],
   "source": [
    "#import the numpy library as np\n",
    "import numpy as np\n",
    "# Load data for all passengers in the variable all_data\n",
    "all_data = pd.read_csv(\"./Data/titanic_all.csv\")\n",
    "# Merging using the field Name as key, selects only the rows of the two datasets that refer to the same passenger\n",
    "testing_results = pd.merge(target_labels, all_data[['Name','Survived']], on=['Name'])\n",
    "\n",
    "# Compute the accuracy as a ratio of matching observations to total osbervations. Store this in in the variable acc.\n",
    "acc = np.sum(testing_results['Est_Survival'] == testing_results['Survived']) / float(len(testing_results))\n",
    "# Print the result\n",
    "print(acc)"
   ]
  },
  {
   "cell_type": "markdown",
   "id": "1ef97697",
   "metadata": {},
   "source": [
    "## Part 3: Evaluating the Decision Tree Model"
   ]
  },
  {
   "cell_type": "markdown",
   "id": "e56ce135",
   "metadata": {},
   "source": [
    "The sklearn library includes a module that can be used to evaluate the accurracy of the decision tree model. The train_test_split() method will divide the observations in whole data set into two randomly selected arrays of observations that makeup the testing and training datasets. After fitting the model to the training data, the trained model can be scored and the prediction accurracy compared for both the training and test datasets. It is desirable for the two scores to be close, but the accuracy for the test dataset is normally lower that for the training data set."
   ]
  },
  {
   "cell_type": "markdown",
   "id": "ef1ec50b",
   "metadata": {},
   "source": [
    "**Step 1: Importing the data**"
   ]
  },
  {
   "cell_type": "code",
   "execution_count": 25,
   "id": "3a26cb6d",
   "metadata": {},
   "outputs": [
    {
     "name": "stdout",
     "output_type": "stream",
     "text": [
      "<class 'pandas.core.frame.DataFrame'>\n",
      "RangeIndex: 1308 entries, 0 to 1307\n",
      "Data columns (total 6 columns):\n",
      " #   Column    Non-Null Count  Dtype  \n",
      "---  ------    --------------  -----  \n",
      " 0   Survived  1308 non-null   int64  \n",
      " 1   Pclass    1308 non-null   int64  \n",
      " 2   Gender    1308 non-null   object \n",
      " 3   Age       1045 non-null   float64\n",
      " 4   SibSp     1308 non-null   int64  \n",
      " 5   Fare      1308 non-null   float64\n",
      "dtypes: float64(2), int64(3), object(1)\n",
      "memory usage: 61.4+ KB\n"
     ]
    }
   ],
   "source": [
    "#import the titanic_all.csv file into a dataframe called all_data. Specify the list of columns to import.\n",
    "all_data = pd.read_csv(\"./Data/titanic_all.csv\", usecols=['Survived','Pclass','Gender','Age','SibSp','Fare'])\n",
    "#View info for the new dataframe\n",
    "all_data.info(verbose=True)"
   ]
  },
  {
   "cell_type": "markdown",
   "id": "17b05c29",
   "metadata": {},
   "source": [
    "There are 1308 records in the data set. Age variable is missing 236 values"
   ]
  },
  {
   "cell_type": "markdown",
   "id": "1069c168",
   "metadata": {},
   "source": [
    "### Step 2: Preparing the data"
   ]
  },
  {
   "cell_type": "markdown",
   "id": "473cfa10",
   "metadata": {},
   "source": [
    "**Removing the \"male\" and \"female\" strings and replace them with 0 and 1 respectively**"
   ]
  },
  {
   "cell_type": "code",
   "execution_count": 26,
   "id": "84a118bf",
   "metadata": {},
   "outputs": [],
   "source": [
    "all_data[\"Gender\"] = all_data[\"Gender\"].apply(lambda toLabel: 0 if toLabel == 'male' else 1)"
   ]
  },
  {
   "cell_type": "markdown",
   "id": "30f6b653",
   "metadata": {},
   "source": [
    "**Replacing the missing age values with the mean of the age of all members of the data set**"
   ]
  },
  {
   "cell_type": "code",
   "execution_count": 27,
   "id": "b967dceb",
   "metadata": {},
   "outputs": [
    {
     "data": {
      "text/html": [
       "<div>\n",
       "<style scoped>\n",
       "    .dataframe tbody tr th:only-of-type {\n",
       "        vertical-align: middle;\n",
       "    }\n",
       "\n",
       "    .dataframe tbody tr th {\n",
       "        vertical-align: top;\n",
       "    }\n",
       "\n",
       "    .dataframe thead th {\n",
       "        text-align: right;\n",
       "    }\n",
       "</style>\n",
       "<table border=\"1\" class=\"dataframe\">\n",
       "  <thead>\n",
       "    <tr style=\"text-align: right;\">\n",
       "      <th></th>\n",
       "      <th>Survived</th>\n",
       "      <th>Pclass</th>\n",
       "      <th>Gender</th>\n",
       "      <th>Age</th>\n",
       "      <th>SibSp</th>\n",
       "      <th>Fare</th>\n",
       "    </tr>\n",
       "  </thead>\n",
       "  <tbody>\n",
       "    <tr>\n",
       "      <th>0</th>\n",
       "      <td>1</td>\n",
       "      <td>1</td>\n",
       "      <td>1</td>\n",
       "      <td>29.0000</td>\n",
       "      <td>0</td>\n",
       "      <td>211.3375</td>\n",
       "    </tr>\n",
       "    <tr>\n",
       "      <th>1</th>\n",
       "      <td>1</td>\n",
       "      <td>1</td>\n",
       "      <td>0</td>\n",
       "      <td>0.9167</td>\n",
       "      <td>1</td>\n",
       "      <td>151.5500</td>\n",
       "    </tr>\n",
       "    <tr>\n",
       "      <th>2</th>\n",
       "      <td>0</td>\n",
       "      <td>1</td>\n",
       "      <td>1</td>\n",
       "      <td>2.0000</td>\n",
       "      <td>1</td>\n",
       "      <td>151.5500</td>\n",
       "    </tr>\n",
       "    <tr>\n",
       "      <th>3</th>\n",
       "      <td>0</td>\n",
       "      <td>1</td>\n",
       "      <td>0</td>\n",
       "      <td>30.0000</td>\n",
       "      <td>1</td>\n",
       "      <td>151.5500</td>\n",
       "    </tr>\n",
       "    <tr>\n",
       "      <th>4</th>\n",
       "      <td>0</td>\n",
       "      <td>1</td>\n",
       "      <td>1</td>\n",
       "      <td>25.0000</td>\n",
       "      <td>1</td>\n",
       "      <td>151.5500</td>\n",
       "    </tr>\n",
       "  </tbody>\n",
       "</table>\n",
       "</div>"
      ],
      "text/plain": [
       "   Survived  Pclass  Gender      Age  SibSp      Fare\n",
       "0         1       1       1  29.0000      0  211.3375\n",
       "1         1       1       0   0.9167      1  151.5500\n",
       "2         0       1       1   2.0000      1  151.5500\n",
       "3         0       1       0  30.0000      1  151.5500\n",
       "4         0       1       1  25.0000      1  151.5500"
      ]
     },
     "execution_count": 27,
     "metadata": {},
     "output_type": "execute_result"
    }
   ],
   "source": [
    "all_data[\"Age\"].fillna(all_data[\"Age\"].mean(), inplace=True)\n",
    "all_data.head()"
   ]
  },
  {
   "cell_type": "markdown",
   "id": "d96d8de0",
   "metadata": {},
   "source": [
    "### Step 2: Creating the input and output variables for the training and testing data"
   ]
  },
  {
   "cell_type": "markdown",
   "id": "c1032150",
   "metadata": {},
   "source": [
    "**Designating the input variables and output variables and generating the arrays**"
   ]
  },
  {
   "cell_type": "code",
   "execution_count": 28,
   "id": "3480ecb2",
   "metadata": {},
   "outputs": [],
   "source": [
    "#Import train_test_split() from the sklearn.model_selection libary \n",
    "from sklearn.model_selection import train_test_split\n",
    "\n",
    "#create the input and target variables as uppercase X and lowercase y. Reuse the columns variable.\n",
    "X = all_data[list(columns)].values\n",
    "y = all_data[\"Survived\"].values\n",
    "\n",
    "#generate the four testing and training data arrays with the train_test_split() method\n",
    "X_train,X_test,y_train,y_test=train_test_split(X, y, test_size=0.40, random_state=0)"
   ]
  },
  {
   "cell_type": "markdown",
   "id": "566a966b",
   "metadata": {},
   "source": [
    "**Training the model and fitting it to the testing data**"
   ]
  },
  {
   "cell_type": "code",
   "execution_count": 29,
   "id": "1670954b",
   "metadata": {},
   "outputs": [],
   "source": [
    "#create the training decision tree object\n",
    "clf_train = tree.DecisionTreeClassifier(criterion=\"entropy\", max_depth=3)\n",
    "\n",
    "#fit the training model using the input and target variables\n",
    "clf_train = clf_train.fit(X_train, y_train)"
   ]
  },
  {
   "cell_type": "markdown",
   "id": "31e87687",
   "metadata": {},
   "source": [
    "**Comparing models by scoring each**"
   ]
  },
  {
   "cell_type": "code",
   "execution_count": 30,
   "id": "1701f9fd",
   "metadata": {},
   "outputs": [
    {
     "name": "stdout",
     "output_type": "stream",
     "text": [
      "Training score = 0.8201530612244898 Testing score = 0.8053435114503816\n"
     ]
    }
   ],
   "source": [
    "#score the model on the two datasets and store the scores in variables. Convert the scores to strings using str()\n",
    "train_score = str(clf_train.score(X_train,y_train))\n",
    "test_score = str(clf_train.score(X_test,y_test))\n",
    "\n",
    "#output the values in a test string\n",
    "print('Training score = '+ train_score+' Testing score = '+test_score)"
   ]
  },
  {
   "cell_type": "markdown",
   "id": "e2d0439b",
   "metadata": {},
   "source": [
    "We have now compared the scores for the trained model on both test and validation data. As expected, the test accuracy score is close, but lower than the score for the training data. This is because normally, the model tends to overfit the training data, therefore the test score is a better evaluation of how the model is able to generalize outside of the training data."
   ]
  },
  {
   "cell_type": "markdown",
   "id": "033c3afd",
   "metadata": {},
   "source": [
    "<p style=\"text-align: center;\"><b>Conclusion</b></p>"
   ]
  },
  {
   "cell_type": "markdown",
   "id": "70e0695c",
   "metadata": {},
   "source": [
    "In this laboratory work we have used a decision tree classifier model to determine who survived the Titanic cruise ship disaster with a data set which contains the details about the more than 1300 hundred passengers who were onboard. There has been created a Decision Tree Classifier that learns from a labelled dataset, applied and evaluated the accurracy of the Decison Tree Model.\n",
    "The result of the work is the visualization of the decision tree, estimation of the survival of each passenger and comparison between the testing and training models."
   ]
  }
 ],
 "metadata": {
  "kernelspec": {
   "display_name": "Python 3 (ipykernel)",
   "language": "python",
   "name": "python3"
  },
  "language_info": {
   "codemirror_mode": {
    "name": "ipython",
    "version": 3
   },
   "file_extension": ".py",
   "mimetype": "text/x-python",
   "name": "python",
   "nbconvert_exporter": "python",
   "pygments_lexer": "ipython3",
   "version": "3.7.10"
  }
 },
 "nbformat": 4,
 "nbformat_minor": 5
}
