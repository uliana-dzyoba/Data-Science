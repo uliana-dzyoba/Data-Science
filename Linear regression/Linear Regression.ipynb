{
 "cells": [
  {
   "cell_type": "markdown",
   "id": "ef2495d5",
   "metadata": {},
   "source": [
    "# Linear Regression in Python"
   ]
  },
  {
   "cell_type": "markdown",
   "id": "2c3972ea",
   "metadata": {},
   "source": [
    "**Мета:** ознайомитись з поняттями простої лінійної регресії та роботи з наданими даними для прогнозування\n",
    "в Python."
   ]
  },
  {
   "cell_type": "markdown",
   "id": "2191113e",
   "metadata": {},
   "source": [
    "**Передумови / сценарій** <br/>\n",
    "У статистиці лінійна регресія - це спосіб моделювання взаємозв'язку між залежною змінною р і\n",
    "незалежною змінною х. У цій лабораторній роботі ви проаналізуєте дані про продажі району та побудуєте\n",
    "просту лінійну регресію для прогнозування річного чистого обсягу продажів на основі кількості магазинів у\n",
    "районі."
   ]
  },
  {
   "cell_type": "markdown",
   "id": "087e68a2",
   "metadata": {},
   "source": [
    "## Частина 1: Імпорт бібліотек та даних"
   ]
  },
  {
   "cell_type": "markdown",
   "id": "64028c76",
   "metadata": {},
   "source": [
    "**Крок 1: Імпорт бібліотек**"
   ]
  },
  {
   "cell_type": "code",
   "execution_count": 1,
   "id": "16461f62",
   "metadata": {},
   "outputs": [],
   "source": [
    "import matplotlib.pyplot as plt\n",
    "import numpy as np\n",
    "import pandas as pd"
   ]
  },
  {
   "cell_type": "markdown",
   "id": "bfb0ffc0",
   "metadata": {},
   "source": [
    "**Крок 2: Імпорт даних**"
   ]
  },
  {
   "cell_type": "code",
   "execution_count": 2,
   "id": "48c6a898",
   "metadata": {},
   "outputs": [
    {
     "data": {
      "text/html": [
       "<div>\n",
       "<style scoped>\n",
       "    .dataframe tbody tr th:only-of-type {\n",
       "        vertical-align: middle;\n",
       "    }\n",
       "\n",
       "    .dataframe tbody tr th {\n",
       "        vertical-align: top;\n",
       "    }\n",
       "\n",
       "    .dataframe thead th {\n",
       "        text-align: right;\n",
       "    }\n",
       "</style>\n",
       "<table border=\"1\" class=\"dataframe\">\n",
       "  <thead>\n",
       "    <tr style=\"text-align: right;\">\n",
       "      <th></th>\n",
       "      <th>district</th>\n",
       "      <th>annual net sales</th>\n",
       "      <th>number of stores in district</th>\n",
       "    </tr>\n",
       "  </thead>\n",
       "  <tbody>\n",
       "    <tr>\n",
       "      <th>0</th>\n",
       "      <td>1</td>\n",
       "      <td>231.0</td>\n",
       "      <td>12</td>\n",
       "    </tr>\n",
       "    <tr>\n",
       "      <th>1</th>\n",
       "      <td>2</td>\n",
       "      <td>156.0</td>\n",
       "      <td>13</td>\n",
       "    </tr>\n",
       "    <tr>\n",
       "      <th>2</th>\n",
       "      <td>3</td>\n",
       "      <td>10.0</td>\n",
       "      <td>16</td>\n",
       "    </tr>\n",
       "    <tr>\n",
       "      <th>3</th>\n",
       "      <td>4</td>\n",
       "      <td>519.0</td>\n",
       "      <td>2</td>\n",
       "    </tr>\n",
       "    <tr>\n",
       "      <th>4</th>\n",
       "      <td>5</td>\n",
       "      <td>437.0</td>\n",
       "      <td>6</td>\n",
       "    </tr>\n",
       "  </tbody>\n",
       "</table>\n",
       "</div>"
      ],
      "text/plain": [
       "   district  annual net sales  number of stores in district\n",
       "0         1             231.0                            12\n",
       "1         2             156.0                            13\n",
       "2         3              10.0                            16\n",
       "3         4             519.0                             2\n",
       "4         5             437.0                             6"
      ]
     },
     "execution_count": 2,
     "metadata": {},
     "output_type": "execute_result"
    }
   ],
   "source": [
    "# Import the file, stores-dist.csv\n",
    "salesDist = pd.read_csv('./Data/stores-dist.csv')\n",
    "\n",
    "# Verify the imported data\n",
    "salesDist.head()"
   ]
  },
  {
   "cell_type": "markdown",
   "id": "a81dd0f7",
   "metadata": {},
   "source": [
    "Заголовки стовпців annual net sales, number of stores in district перейменовані для\n",
    "полегшення обробки даних."
   ]
  },
  {
   "cell_type": "code",
   "execution_count": 3,
   "id": "19b0e33c",
   "metadata": {},
   "outputs": [
    {
     "data": {
      "text/html": [
       "<div>\n",
       "<style scoped>\n",
       "    .dataframe tbody tr th:only-of-type {\n",
       "        vertical-align: middle;\n",
       "    }\n",
       "\n",
       "    .dataframe tbody tr th {\n",
       "        vertical-align: top;\n",
       "    }\n",
       "\n",
       "    .dataframe thead th {\n",
       "        text-align: right;\n",
       "    }\n",
       "</style>\n",
       "<table border=\"1\" class=\"dataframe\">\n",
       "  <thead>\n",
       "    <tr style=\"text-align: right;\">\n",
       "      <th></th>\n",
       "      <th>district</th>\n",
       "      <th>sales</th>\n",
       "      <th>stores</th>\n",
       "    </tr>\n",
       "  </thead>\n",
       "  <tbody>\n",
       "    <tr>\n",
       "      <th>0</th>\n",
       "      <td>1</td>\n",
       "      <td>231.0</td>\n",
       "      <td>12</td>\n",
       "    </tr>\n",
       "    <tr>\n",
       "      <th>1</th>\n",
       "      <td>2</td>\n",
       "      <td>156.0</td>\n",
       "      <td>13</td>\n",
       "    </tr>\n",
       "    <tr>\n",
       "      <th>2</th>\n",
       "      <td>3</td>\n",
       "      <td>10.0</td>\n",
       "      <td>16</td>\n",
       "    </tr>\n",
       "    <tr>\n",
       "      <th>3</th>\n",
       "      <td>4</td>\n",
       "      <td>519.0</td>\n",
       "      <td>2</td>\n",
       "    </tr>\n",
       "    <tr>\n",
       "      <th>4</th>\n",
       "      <td>5</td>\n",
       "      <td>437.0</td>\n",
       "      <td>6</td>\n",
       "    </tr>\n",
       "  </tbody>\n",
       "</table>\n",
       "</div>"
      ],
      "text/plain": [
       "   district  sales  stores\n",
       "0         1  231.0      12\n",
       "1         2  156.0      13\n",
       "2         3   10.0      16\n",
       "3         4  519.0       2\n",
       "4         5  437.0       6"
      ]
     },
     "execution_count": 3,
     "metadata": {},
     "output_type": "execute_result"
    }
   ],
   "source": [
    "# The district column has no relevance at this time, so it can be dropped.\n",
    "salesDist = salesDist.rename(columns={'annual net sales':'sales','number of stores in district':'stores'})\n",
    "salesDist.head()"
   ]
  },
  {
   "cell_type": "markdown",
   "id": "10230992",
   "metadata": {},
   "source": [
    "## Частина 2: Складання даних"
   ]
  },
  {
   "cell_type": "markdown",
   "id": "f02b7de3",
   "metadata": {},
   "source": [
    "**Крок 1: Визначення співвідношення** <br/>\n",
    "Дослідження кореляції даних до регресійного аналізу."
   ]
  },
  {
   "cell_type": "code",
   "execution_count": 4,
   "id": "0ae240ca",
   "metadata": {},
   "outputs": [
    {
     "data": {
      "text/html": [
       "<div>\n",
       "<style scoped>\n",
       "    .dataframe tbody tr th:only-of-type {\n",
       "        vertical-align: middle;\n",
       "    }\n",
       "\n",
       "    .dataframe tbody tr th {\n",
       "        vertical-align: top;\n",
       "    }\n",
       "\n",
       "    .dataframe thead th {\n",
       "        text-align: right;\n",
       "    }\n",
       "</style>\n",
       "<table border=\"1\" class=\"dataframe\">\n",
       "  <thead>\n",
       "    <tr style=\"text-align: right;\">\n",
       "      <th></th>\n",
       "      <th>district</th>\n",
       "      <th>sales</th>\n",
       "      <th>stores</th>\n",
       "    </tr>\n",
       "  </thead>\n",
       "  <tbody>\n",
       "    <tr>\n",
       "      <th>district</th>\n",
       "      <td>1.000000</td>\n",
       "      <td>0.136103</td>\n",
       "      <td>-0.230617</td>\n",
       "    </tr>\n",
       "    <tr>\n",
       "      <th>sales</th>\n",
       "      <td>0.136103</td>\n",
       "      <td>1.000000</td>\n",
       "      <td>-0.912236</td>\n",
       "    </tr>\n",
       "    <tr>\n",
       "      <th>stores</th>\n",
       "      <td>-0.230617</td>\n",
       "      <td>-0.912236</td>\n",
       "      <td>1.000000</td>\n",
       "    </tr>\n",
       "  </tbody>\n",
       "</table>\n",
       "</div>"
      ],
      "text/plain": [
       "          district     sales    stores\n",
       "district  1.000000  0.136103 -0.230617\n",
       "sales     0.136103  1.000000 -0.912236\n",
       "stores   -0.230617 -0.912236  1.000000"
      ]
     },
     "execution_count": 4,
     "metadata": {},
     "output_type": "execute_result"
    }
   ],
   "source": [
    "# Check correlation of data prior to doing the analysis\n",
    "salesDist.corr(method='pearson')"
   ]
  },
  {
   "cell_type": "markdown",
   "id": "8472a091",
   "metadata": {},
   "source": [
    "З коефіцієнта кореляції виявляється, що стовпець district має низьку кореляцію до annual net\n",
    "sales і number of stores in the district. Отже, колонна округа не є необхідною як частина\n",
    "регресійного аналізу. Колонка district може бути виключена з dataframe."
   ]
  },
  {
   "cell_type": "code",
   "execution_count": 5,
   "id": "84d36523",
   "metadata": {},
   "outputs": [
    {
     "data": {
      "text/html": [
       "<div>\n",
       "<style scoped>\n",
       "    .dataframe tbody tr th:only-of-type {\n",
       "        vertical-align: middle;\n",
       "    }\n",
       "\n",
       "    .dataframe tbody tr th {\n",
       "        vertical-align: top;\n",
       "    }\n",
       "\n",
       "    .dataframe thead th {\n",
       "        text-align: right;\n",
       "    }\n",
       "</style>\n",
       "<table border=\"1\" class=\"dataframe\">\n",
       "  <thead>\n",
       "    <tr style=\"text-align: right;\">\n",
       "      <th></th>\n",
       "      <th>sales</th>\n",
       "      <th>stores</th>\n",
       "    </tr>\n",
       "  </thead>\n",
       "  <tbody>\n",
       "    <tr>\n",
       "      <th>0</th>\n",
       "      <td>231.0</td>\n",
       "      <td>12</td>\n",
       "    </tr>\n",
       "    <tr>\n",
       "      <th>1</th>\n",
       "      <td>156.0</td>\n",
       "      <td>13</td>\n",
       "    </tr>\n",
       "    <tr>\n",
       "      <th>2</th>\n",
       "      <td>10.0</td>\n",
       "      <td>16</td>\n",
       "    </tr>\n",
       "    <tr>\n",
       "      <th>3</th>\n",
       "      <td>519.0</td>\n",
       "      <td>2</td>\n",
       "    </tr>\n",
       "    <tr>\n",
       "      <th>4</th>\n",
       "      <td>437.0</td>\n",
       "      <td>6</td>\n",
       "    </tr>\n",
       "  </tbody>\n",
       "</table>\n",
       "</div>"
      ],
      "text/plain": [
       "   sales  stores\n",
       "0  231.0      12\n",
       "1  156.0      13\n",
       "2   10.0      16\n",
       "3  519.0       2\n",
       "4  437.0       6"
      ]
     },
     "execution_count": 5,
     "metadata": {},
     "output_type": "execute_result"
    }
   ],
   "source": [
    "# The district column has no relevance at this time, so it can be dropped.\n",
    "sales = salesDist.drop('district', axis=1, inplace=False)\n",
    "sales.head()"
   ]
  },
  {
   "cell_type": "markdown",
   "id": "4e8a7069",
   "metadata": {},
   "source": [
    "Тип кореляції між річними чистими продажами та кількістю магазинів у районі - <font color = 'grey'> сильна обернена кореляція </font>"
   ]
  },
  {
   "cell_type": "markdown",
   "id": "dbcc8a0f",
   "metadata": {},
   "source": [
    "**Крок 2: Створення сюжету** <br/>\n",
    "Створення графіка для візуалізації даних, призначення магазину як незалежна\n",
    "змінну х а продаж як залежна змінна р."
   ]
  },
  {
   "cell_type": "code",
   "execution_count": 6,
   "id": "f941301c",
   "metadata": {},
   "outputs": [],
   "source": [
    "# dependent variable for y axis\n",
    "y = sales['sales']\n",
    "# independent variable for x axis\n",
    "x = sales.stores"
   ]
  },
  {
   "cell_type": "code",
   "execution_count": 7,
   "id": "cb26fcbb",
   "metadata": {},
   "outputs": [
    {
     "data": {
      "image/png": "[encoded data removed]",
      "text/plain": [
       "<Figure size 1440x720 with 1 Axes>"
      ]
     },
     "metadata": {
      "needs_background": "light"
     },
     "output_type": "display_data"
    }
   ],
   "source": [
    "# Display the plot inline\n",
    "%matplotlib inline\n",
    "\n",
    "# Increase the size of the plot\n",
    "plt.figure(figsize=(20,10))\n",
    "\n",
    "# Create a scatter plot: Number of stores in the District vs. Annual Net Sales\n",
    "plt.plot(x,y, 'o', markersize = 15)\n",
    "\n",
    "# Add axis labels and increase the font size\n",
    "plt.ylabel('Annual Net Sales', fontsize = 30)\n",
    "plt.xlabel('Number of Stores in the District', fontsize = 30)\n",
    "\n",
    "# Increase the font size on the ticks on the x and y axis\n",
    "plt.xticks(fontsize = 20)\n",
    "plt.yticks(fontsize = 20)\n",
    "\n",
    "# Display the scatter plot\n",
    "plt.show()"
   ]
  },
  {
   "cell_type": "markdown",
   "id": "036b9da8",
   "metadata": {},
   "source": [
    "## Частина 3: Побудова простої лінійної регресії"
   ]
  },
  {
   "cell_type": "markdown",
   "id": "5831cfd6",
   "metadata": {},
   "source": [
    "У цій частині використовується numpy для створення лінії регресії для аналізованих даних, також розраховується центроїд для цього набору даних. Центрод - це середнє значення для набору\n",
    "даних. Сформована проста лінійна лінійна регресія також повинна проходити через центроїд."
   ]
  },
  {
   "cell_type": "markdown",
   "id": "e2d3a373",
   "metadata": {},
   "source": [
    "**Крок 1: Обчислення нахилу та перетину Y-лінії лінійної регресії** <br/>"
   ]
  },
  {
   "cell_type": "code",
   "execution_count": 8,
   "id": "1c25df4f",
   "metadata": {},
   "outputs": [
    {
     "name": "stdout",
     "output_type": "stream",
     "text": [
      "The slope of line is -35.79.\n",
      "The y-intercept is 599.38.\n",
      "The best fit simple linear regression line is -35.79x + 599.38.\n"
     ]
    }
   ],
   "source": [
    "# Use numpy polyfit for linear regression to fit the data\n",
    "# Generate the slope of the line (m)\n",
    "# Generate the y-intercept (b)\n",
    "m, b = np.polyfit(x,y,1) \n",
    "print ('The slope of line is {:.2f}.'.format(m))\n",
    "print ('The y-intercept is {:.2f}.'.format(b))\n",
    "print ('The best fit simple linear regression line is {:.2f}x + {:.2f}.'.format(m,b))"
   ]
  },
  {
   "cell_type": "markdown",
   "id": "23cd1109",
   "metadata": {},
   "source": [
    "**Крок 2: Обчислення центроїда** <br/>\n",
    "Центроїд набору даних обчислюється за допомогою функції середнього значення."
   ]
  },
  {
   "cell_type": "code",
   "execution_count": 9,
   "id": "40263c95",
   "metadata": {},
   "outputs": [
    {
     "name": "stdout",
     "output_type": "stream",
     "text": [
      "The centroid for this dataset is x = 8.74 and y = 286.57.\n"
     ]
    }
   ],
   "source": [
    "# y coordinate for centroid\n",
    "y_mean = y.mean()    \n",
    "# x coordinate for centroid\n",
    "x_mean = x.mean()\n",
    "print ('The centroid for this dataset is x = {:.2f} and y = {:.2f}.'.format(x_mean, y_mean))"
   ]
  },
  {
   "cell_type": "markdown",
   "id": "e167bbd7",
   "metadata": {},
   "source": [
    "**Крок 3: Накладення лінії регресії та центральної точки на графіку**"
   ]
  },
  {
   "cell_type": "code",
   "execution_count": 10,
   "id": "bceed557",
   "metadata": {},
   "outputs": [
    {
     "data": {
      "text/plain": [
       "<matplotlib.legend.Legend at 0x7fede96e2290>"
      ]
     },
     "execution_count": 10,
     "metadata": {},
     "output_type": "execute_result"
    },
    {
     "data": {
      "image/png": "[encoded data removed]",
      "text/plain": [
       "<Figure size 1440x720 with 1 Axes>"
      ]
     },
     "metadata": {
      "needs_background": "light"
     },
     "output_type": "display_data"
    }
   ],
   "source": [
    "# Create the plot inline\n",
    "%matplotlib inline\n",
    "\n",
    "# Enlarge the plot size\n",
    "plt.figure(figsize=(20,10))\n",
    "\n",
    "# Plot the scatter plot of the data set\n",
    "plt.plot(x,y, 'o', markersize = 14, label = \"Annual Net Sales\") \n",
    "\n",
    "# Plot the centroid point\n",
    "plt.plot(x_mean,y_mean, '*', markersize = 30, color = \"r\") \n",
    "\n",
    "# Plot the linear regression line\n",
    "plt.plot(x, m*x + b, '-', label = 'Simple Linear Regression Line', linewidth = 4)\n",
    "\n",
    "# Create the x and y axis labels\n",
    "plt.ylabel('Annual Net Sales', fontsize = 30)\n",
    "plt.xlabel('Number of Stores in District', fontsize = 30)\n",
    "\n",
    "# Enlarge x and y tick marks\n",
    "plt.xticks(fontsize = 20)\n",
    "plt.yticks(fontsize = 20)\n",
    "\n",
    "# Point out the centroid point in the plot\n",
    "plt.annotate('Centroid', xy=(x_mean-0.1, y_mean-5), xytext=(x_mean-3, y_mean-20), arrowprops=dict(facecolor='black', shrink=0.05), fontsize = 30)\n",
    "\n",
    "# Create legend\n",
    "plt.legend(loc = 'upper right', fontsize = 20)"
   ]
  },
  {
   "cell_type": "markdown",
   "id": "a7f17369",
   "metadata": {},
   "source": [
    "**Крок 4: Прогнозування** <br/>\n",
    "Використовуючи лінійну лінійну регресію, можна передбачити річний чистий обсяг продажів на основі\n",
    "кількості магазинів у районі."
   ]
  },
  {
   "cell_type": "code",
   "execution_count": 11,
   "id": "19d68399",
   "metadata": {},
   "outputs": [],
   "source": [
    "# Function to predict the net sales from the regression line\n",
    "def predict(query):\n",
    "    if query >= 1:\n",
    "        predict = m * query + b\n",
    "        return predict\n",
    "    else:\n",
    "        print (\"You must have at least 1 store in the district to predict the annual net sales.\")"
   ]
  },
  {
   "cell_type": "code",
   "execution_count": 12,
   "id": "8eaf6c82",
   "metadata": {},
   "outputs": [
    {
     "data": {
      "text/plain": [
       "456.2313681207654"
      ]
     },
     "execution_count": 12,
     "metadata": {},
     "output_type": "execute_result"
    }
   ],
   "source": [
    "# Enter the number of stores in the function to generate the net sales prediction.\n",
    "predict(4)"
   ]
  },
  {
   "cell_type": "markdown",
   "id": "2cfd3ba9",
   "metadata": {},
   "source": [
    "Прогнозований чистий продаж, якщо в районі є 4 магазини - <font color = 'grey'> 456.2313681207654 </font>"
   ]
  },
  {
   "cell_type": "markdown",
   "id": "88178914",
   "metadata": {},
   "source": [
    "<p style=\"text-align: center;\"><b>Висновки</b></p>"
   ]
  },
  {
   "cell_type": "markdown",
   "id": "452d705c",
   "metadata": {},
   "source": [
    "В ході виконанні лабораторної роботи було розглянуто поняття простої лінійної регресії, за допомогою Python було проаналізовано дані про продажі району та побудовано просту лінійну регресію для прогнозування річного чистого обсягу продажів на основі кількості магазинів у районі."
   ]
  }
 ],
 "metadata": {
  "kernelspec": {
   "display_name": "Python 3 (ipykernel)",
   "language": "python",
   "name": "python3"
  },
  "language_info": {
   "codemirror_mode": {
    "name": "ipython",
    "version": 3
   },
   "file_extension": ".py",
   "mimetype": "text/x-python",
   "name": "python",
   "nbconvert_exporter": "python",
   "pygments_lexer": "ipython3",
   "version": "3.7.10"
  }
 },
 "nbformat": 4,
 "nbformat_minor": 5
}
